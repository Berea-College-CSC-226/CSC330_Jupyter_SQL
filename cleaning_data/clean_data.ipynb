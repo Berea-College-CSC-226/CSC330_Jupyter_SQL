{
 "cells": [
  {
   "attachments": {},
   "cell_type": "markdown",
   "metadata": {},
   "source": [
    "Import libraries to manage data"
   ]
  },
  {
   "cell_type": "code",
   "execution_count": 3,
   "metadata": {},
   "outputs": [],
   "source": [
    "import xlrd\n",
    "import pandas\n",
    "import sqlite3"
   ]
  },
  {
   "attachments": {},
   "cell_type": "markdown",
   "metadata": {},
   "source": [
    "If you're new to the pandas library, [here is a bit of info on the **data frames** data structure](https://pandas.pydata.org/docs/reference/api/pandas.DataFrame.html) we'll be using. This is a 2D array and lets us store our data in a familiar tabular format. Data Frames are mutable and allow labeled columns. They are an ideal intermediate data structure when working with data in a relational database.\n",
    "\n",
    "[Lots of examples of Data Frames in action](https://sparkbyexamples.com/pandas/pandas-select-columns-by-name-or-index/)"
   ]
  },
  {
   "attachments": {},
   "cell_type": "markdown",
   "metadata": {},
   "source": [
    "Import spreadsheets into dataframes\n",
    "- Faculty List (all faculty by division)\n",
    "- Employee Class (all employee, including faculty, with employment class)\n",
    "- Alpha List (all employees with current committee assignments)\n",
    "- Preference Survey (responses employees who filled out latest survey)\n",
    "- Historical Committee Service (all employees who held some position in past 5yrs)"
   ]
  },
  {
   "cell_type": "code",
   "execution_count": 4,
   "metadata": {},
   "outputs": [],
   "source": [
    "# one spreadsheet done as an example\n",
    "preferences = pandas.read_excel( \n",
    "    'Preference_Survey.xls',\n",
    "    header=0\n",
    ")\n",
    "\n",
    "# choose 1 of the remaining 4 to import "
   ]
  },
  {
   "attachments": {},
   "cell_type": "markdown",
   "metadata": {},
   "source": [
    "Inspect your import to see if it is correct. If there is an error, check your source file."
   ]
  },
  {
   "cell_type": "code",
   "execution_count": 6,
   "metadata": {},
   "outputs": [
    {
     "data": {
      "text/plain": [
       "Index(['Last Name', 'First Name', 'Accessibility', 'Athletics', 'Awards',\n",
       "       'Budget/Benefits', 'CCHB', 'CSRI', 'Convo', 'EC', 'Fac.Adv toSGA',\n",
       "       'Faculty Appeals', 'Fac.Assemblies Chair', 'Fac. Liaison',\n",
       "       'Fac. Secretary', 'LPC', 'Parliamentarian', 'SPC', 'SAAS', 'SLC',\n",
       "       'Sustainability', 'TPAC', 'Ad hoc 2022-23', 'Ad hoc 2023-24',\n",
       "       'Extended time off campus 23-24', 'Additional Comments.    '],\n",
       "      dtype='object')"
      ]
     },
     "execution_count": 6,
     "metadata": {},
     "output_type": "execute_result"
    }
   ],
   "source": [
    "#checking schema\n",
    "preferences.columns"
   ]
  },
  {
   "cell_type": "code",
   "execution_count": null,
   "metadata": {},
   "outputs": [],
   "source": [
    "#checking column data types (inferred by pandas)\n",
    "preferences.dtypes"
   ]
  },
  {
   "cell_type": "code",
   "execution_count": null,
   "metadata": {},
   "outputs": [],
   "source": [
    "\n",
    "#checking first few rows of data\n",
    "preferences.head()"
   ]
  },
  {
   "attachments": {},
   "cell_type": "markdown",
   "metadata": {},
   "source": [
    "⬆️ Observe the data in the records displayed. Does everything look in the right place? Is text formatted correctly? \n",
    "\n",
    "Now is the time to closely inspect your data. Remove any trailing whitespaces `trim()`, scrutinize anomalies or missing data (`isNa()` `isnull()`), get rid of blank rows or extra columns. Make sure there are no inconsistencies. \n",
    "\n",
    "Google and StackOverflow are your friends. This is the \"cleaning\" step that often gets ignored in glamorous tales of data analysis. Also known as _\"Data Munging.\"_\n",
    "\n",
    "Pandas is a powerful tool with many functions to help you scrub your data. This tutorial demos a few: ['Data Wrangling with Pandas'](https://towardsdatascience.com/data-wrangling-with-pandas-5b0be151df4e) "
   ]
  },
  {
   "cell_type": "markdown",
   "metadata": {},
   "source": []
  },
  {
   "attachments": {},
   "cell_type": "markdown",
   "metadata": {},
   "source": [
    "---------"
   ]
  },
  {
   "attachments": {},
   "cell_type": "markdown",
   "metadata": {},
   "source": [
    "Once you've got clean and well-formatted data, it's time to put in a database!\n",
    "\n",
    "Right...?\n",
    "\n",
    "This is where normalization comes in. Are the tables you have actually relations? Don't be too hasty about stuffing just anything into a database. Review the rules of normalization for your tables. You _will_ need to review more than the one file you chose to import to get a clear picture of all the data and how it fits together. \n",
    "Normalizing your tables may require creating new data frames and moving some data around. "
   ]
  },
  {
   "cell_type": "markdown",
   "metadata": {},
   "source": []
  },
  {
   "attachments": {},
   "cell_type": "markdown",
   "metadata": {},
   "source": [
    "Now it is time to put the tables in your database. "
   ]
  },
  {
   "attachments": {},
   "cell_type": "markdown",
   "metadata": {},
   "source": [
    "First, connect the the database. (You should create the database schema via the sqlite command line interface). Don't forget to put keys and constraints!"
   ]
  },
  {
   "cell_type": "code",
   "execution_count": 10,
   "metadata": {},
   "outputs": [],
   "source": [
    "#create a database connection\n",
    "db_conn = sqlite3.connect(\"your/path/toData.db\") #insert relative path to your database"
   ]
  },
  {
   "cell_type": "markdown",
   "metadata": {},
   "source": []
  },
  {
   "cell_type": "code",
   "execution_count": 12,
   "metadata": {},
   "outputs": [
    {
     "data": {
      "text/plain": [
       "100"
      ]
     },
     "execution_count": 12,
     "metadata": {},
     "output_type": "execute_result"
    }
   ],
   "source": [
    "# Be sure to create a table in the database first!\n",
    "# The example code connects to the database and creates and executes SQL statements \n",
    "# to insert rows in 'preferences' data frame to the'committee_preferences' table in the database\n",
    "preferences.to_sql('committee_preferences', db_conn, if_exists='append', index=False)"
   ]
  },
  {
   "cell_type": "markdown",
   "metadata": {},
   "source": []
  }
 ],
 "metadata": {
  "kernelspec": {
   "display_name": "Python 3 (ipykernel)",
   "language": "python",
   "name": "python3"
  },
  "language_info": {
   "codemirror_mode": {
    "name": "ipython",
    "version": 3
   },
   "file_extension": ".py",
   "mimetype": "text/x-python",
   "name": "python",
   "nbconvert_exporter": "python",
   "pygments_lexer": "ipython3",
   "version": "3.10.4"
  },
  "orig_nbformat": 4
 },
 "nbformat": 4,
 "nbformat_minor": 2
}
